{
 "cells": [
  {
   "cell_type": "code",
   "execution_count": 2,
   "metadata": {},
   "outputs": [],
   "source": [
    "import tensorflow as tf\r\n",
    "import tensorflow.keras as keras\r\n",
    "from tensorflow.keras import layers, models\r\n",
    "import numpy as np\r\n",
    "from sklearn.model_selection import train_test_split\r\n",
    "from glob import glob\r\n",
    "import os\r\n",
    "from tqdm import tqdm\r\n",
    "from datetime import datetime\r\n",
    "from tensorflow.keras.callbacks import ModelCheckpoint, ReduceLROnPlateau"
   ]
  },
  {
   "cell_type": "code",
   "execution_count": 3,
   "metadata": {},
   "outputs": [
    {
     "name": "stderr",
     "output_type": "stream",
     "text": [
      "100%|██████████| 1080/1080 [00:02<00:00, 361.79it/s]\n"
     ]
    },
    {
     "name": "stdout",
     "output_type": "stream",
     "text": [
      "(259718, 20, 20, 1) (259718, 400)\n",
      "(64930, 20, 20, 1) (64930, 400)\n"
     ]
    }
   ],
   "source": [
    "w, h = 20, 20\r\n",
    "base_path = os.path.join('dataset', '*/*.npz')\r\n",
    "\r\n",
    "file_list = glob(base_path)\r\n",
    "\r\n",
    "x_data, y_data = [], []\r\n",
    "for file_path in tqdm(file_list):\r\n",
    "    data = np.load(file_path)\r\n",
    "    x_data.extend(data['inputs'])\r\n",
    "    y_data.extend(data['outputs'])\r\n",
    "\r\n",
    "x_data = np.array(x_data, np.float32).reshape((-1, h, w, 1))\r\n",
    "y_data = np.array(y_data, np.float32).reshape((-1, h * w))\r\n",
    "\r\n",
    "x_train, x_val, y_train, y_val = train_test_split(x_data, y_data, test_size=0.2, random_state=2020)\r\n",
    "\r\n",
    "del x_data, y_data\r\n",
    "\r\n",
    "print(x_train.shape, y_train.shape)\r\n",
    "print(x_val.shape, y_val.shape)"
   ]
  },
  {
   "cell_type": "code",
   "execution_count": 5,
   "metadata": {},
   "outputs": [
    {
     "name": "stdout",
     "output_type": "stream",
     "text": [
      "Model: \"sequential_1\"\n",
      "_________________________________________________________________\n",
      "Layer (type)                 Output Shape              Param #   \n",
      "=================================================================\n",
      "conv2d_6 (Conv2D)            (None, 20, 20, 64)        3200      \n",
      "_________________________________________________________________\n",
      "conv2d_7 (Conv2D)            (None, 20, 20, 128)       401536    \n",
      "_________________________________________________________________\n",
      "conv2d_8 (Conv2D)            (None, 20, 20, 256)       1605888   \n",
      "_________________________________________________________________\n",
      "conv2d_9 (Conv2D)            (None, 20, 20, 128)       1605760   \n",
      "_________________________________________________________________\n",
      "conv2d_10 (Conv2D)           (None, 20, 20, 64)        401472    \n",
      "_________________________________________________________________\n",
      "conv2d_11 (Conv2D)           (None, 20, 20, 1)         65        \n",
      "_________________________________________________________________\n",
      "reshape_1 (Reshape)          (None, 400)               0         \n",
      "_________________________________________________________________\n",
      "activation_1 (Activation)    (None, 400)               0         \n",
      "=================================================================\n",
      "Total params: 4,017,921\n",
      "Trainable params: 4,017,921\n",
      "Non-trainable params: 0\n",
      "_________________________________________________________________\n"
     ]
    }
   ],
   "source": [
    "model = models.Sequential([\r\n",
    "    layers.Conv2D(64, 7, activation='relu', padding='same', input_shape=(h, w, 1)),\r\n",
    "    layers.Conv2D(128, 7, activation='relu', padding='same'),\r\n",
    "    layers.Conv2D(256, 7, activation='relu', padding='same'),\r\n",
    "    layers.Conv2D(128, 7, activation='relu', padding='same'),\r\n",
    "    layers.Conv2D(64, 7, activation='relu', padding='same'),\r\n",
    "    layers.Conv2D(1, 1, activation=None, padding='same'),\r\n",
    "    layers.Reshape((h * w,)),\r\n",
    "    layers.Activation('sigmoid')\r\n",
    "])\r\n",
    "\r\n",
    "model.compile(\r\n",
    "    optimizer='adam',\r\n",
    "    loss='binary_crossentropy',\r\n",
    "    metrics=['acc']\r\n",
    ")\r\n",
    "\r\n",
    "model.summary()"
   ]
  },
  {
   "cell_type": "code",
   "execution_count": null,
   "metadata": {},
   "outputs": [],
   "source": [
    "start_time = datetime.now().strftime('%Y%m%d_%H%M%S')\r\n",
    "os.makedirs('models', exist_ok=True)\r\n",
    "\r\n",
    "model.fit(\r\n",
    "    x=x_train,\r\n",
    "    y=y_train,\r\n",
    "    batch_size=256,\r\n",
    "    epochs=10,\r\n",
    "    callbacks=[\r\n",
    "        ModelCheckpoint('./models/%s.h5' % (start_time), monitor='val_acc', verbose=1, save_best_only=True, mode='auto'),\r\n",
    "        ReduceLROnPlateau(monitor='val_acc', factor=0.2, patience=5, verbose=1, mode='auto')\r\n",
    "    ],\r\n",
    "    validation_data=(x_val, y_val),\r\n",
    "    use_multiprocessing=True,\r\n",
    "    workers=16\r\n",
    ")"
   ]
  },
  {
   "cell_type": "code",
   "execution_count": null,
   "metadata": {},
   "outputs": [],
   "source": [
    "y_pred = model.predict(np.expand_dims(x_val[i], axis=0)).squeeze()\r\n",
    "y_pred = y_pred.reshape((h, w))\r\n",
    "\r\n",
    "y, x = np.unravel_index(np.argmax(y_pred), y_pred.shape)\r\n",
    "\r\n",
    "print(x, y, y_pred[y, x])"
   ]
  },
  {
   "cell_type": "code",
   "execution_count": 10,
   "metadata": {},
   "outputs": [
    {
     "name": "stdout",
     "output_type": "stream",
     "text": [
      "<class 'ursina.color.Color'>\n",
      "<class 'str'>\n"
     ]
    }
   ],
   "source": [
    "import matplotlib.colors as mcolors\r\n",
    "from ursina import *\r\n",
    "\r\n",
    "\r\n",
    "print(type(color.red))\r\n",
    "print(type(mcolors.CSS4_COLORS[\"red\"]))"
   ]
  }
 ],
 "metadata": {
  "interpreter": {
   "hash": "b3ba2566441a7c06988d0923437866b63cedc61552a5af99d1f4fb67d367b25f"
  },
  "kernelspec": {
   "display_name": "Python 3.8.8 64-bit ('base': conda)",
   "name": "python3"
  },
  "language_info": {
   "codemirror_mode": {
    "name": "ipython",
    "version": 3
   },
   "file_extension": ".py",
   "mimetype": "text/x-python",
   "name": "python",
   "nbconvert_exporter": "python",
   "pygments_lexer": "ipython3",
   "version": "3.8.8"
  },
  "orig_nbformat": 4
 },
 "nbformat": 4,
 "nbformat_minor": 2
}